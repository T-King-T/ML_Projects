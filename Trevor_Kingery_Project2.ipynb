{
  "nbformat": 4,
  "nbformat_minor": 0,
  "metadata": {
    "colab": {
      "provenance": []
    },
    "kernelspec": {
      "name": "python3",
      "display_name": "Python 3"
    },
    "language_info": {
      "name": "python"
    }
  },
  "cells": [
    {
      "cell_type": "markdown",
      "source": [
        "# **Project-2**\n",
        "\n",
        "In this project, you will analyze and predict the weekly sales for a retail store. The dataset includes weekly sales data for *45* store locations over a *143-week* period. Create a machine learning model (**regression**) to predict weekly sales values using the train and test datasets provided.\n",
        "\n",
        "**Dataset Details:**\n",
        "\n",
        "*Store*: Store number\n",
        "\n",
        "*Week*: 1 through 143\n",
        "\n",
        "*Temperature*: Weekly outside temperature\n",
        "\n",
        "*Holiday*: Yes for holiday week, No for non-holiday week\n",
        "\n",
        "*CPI*: The Consumer Price Index\n",
        "\n",
        "*Fuel Price*: Price per gallon\n",
        "\n",
        "*Unemployment*: Unemployment rate\n",
        "\n",
        "*WeeklySales*: Total sales amount\n",
        "\n",
        "\n",
        "**Datasets Locations and Names:**\n",
        "Canvas -> Modules -> Week 5 -> Datasets -> \"trainSales.csv\" and \"testSales.csv\".\n",
        "\n",
        "Download the .ipynb file and save as FirstName_LastName_Project2.ipynb. Please submit (upload) your source code to Canvas."
      ],
      "metadata": {
        "id": "VGqF6GlmlVWn"
      }
    },
    {
      "cell_type": "markdown",
      "source": [
        "Connect to Google drive and import the initaial libraries the may be needed"
      ],
      "metadata": {
        "id": "foO4Yb0kHd2G"
      }
    },
    {
      "cell_type": "code",
      "source": [
        "import matplotlib.pyplot as plt\n",
        "import numpy as np\n",
        "import pandas as pd\n",
        "\n",
        "from google.colab import drive\n",
        "drive.mount('/content/drive')\n",
        "\n"
      ],
      "metadata": {
        "colab": {
          "base_uri": "https://localhost:8080/"
        },
        "id": "7DCEBH7NhZLx",
        "outputId": "8b32551c-d882-4459-dfd5-621ae2cc2a90"
      },
      "execution_count": 104,
      "outputs": [
        {
          "output_type": "stream",
          "name": "stdout",
          "text": [
            "Drive already mounted at /content/drive; to attempt to forcibly remount, call drive.mount(\"/content/drive\", force_remount=True).\n"
          ]
        }
      ]
    },
    {
      "cell_type": "markdown",
      "source": [
        "Access the necessary files that contain our training and test data sets. As the data sets are already seperate we dont not need to utilize stratfied shuffling to seperate a single data set."
      ],
      "metadata": {
        "id": "QGXacgZ9Htiw"
      }
    },
    {
      "cell_type": "code",
      "source": [
        "train_set = pd.read_csv(\"drive/My Drive/trainSales.csv\")\n",
        "test_set = pd.read_csv(\"drive/My Drive/testSales.csv\")"
      ],
      "metadata": {
        "id": "TMIxtV9fhZnh"
      },
      "execution_count": 105,
      "outputs": []
    },
    {
      "cell_type": "markdown",
      "source": [
        "Verify that the data sets were imported correctly. We can see that the train_set contains 5148 entries and the test_set contains 1287 entries."
      ],
      "metadata": {
        "id": "esqmV58VIYRm"
      }
    },
    {
      "cell_type": "code",
      "source": [
        "train_set, test_set"
      ],
      "metadata": {
        "colab": {
          "base_uri": "https://localhost:8080/"
        },
        "id": "nJpAqpfMhZ2r",
        "outputId": "0f1a21e3-cf4e-4903-ce2b-55e0b541ee52"
      },
      "execution_count": 106,
      "outputs": [
        {
          "output_type": "execute_result",
          "data": {
            "text/plain": [
              "(      Store  Week  Temperature Holiday         CPI  FuelPrice  Unemployment  \\\n",
              " 0         8   109        50.95      No  224.395979      3.630         5.825   \n",
              " 1         2   127        84.20      No  221.521506      3.227         6.565   \n",
              " 2        38    72        86.84      No  129.043200      3.935        13.736   \n",
              " 3        41    27        69.21      No  190.099003      2.690         7.335   \n",
              " 4        35   125        73.23      No  142.160646      3.564         8.876   \n",
              " ...     ...   ...          ...     ...         ...        ...           ...   \n",
              " 5143     43    12        62.71      No  202.483191      2.795         9.593   \n",
              " 5144      5   138        71.09      No  223.373759      3.721         5.603   \n",
              " 5145     18    57        28.49      No  133.614143      3.437         9.131   \n",
              " 5146      2    32        79.09     Yes  211.153210      2.565         8.099   \n",
              " 5147      9     3        43.06      No  214.850618      2.514         6.415   \n",
              " \n",
              "       WeeklySales  \n",
              " 0       952264.91  \n",
              " 1      2041507.40  \n",
              " 2       356797.00  \n",
              " 3      1338132.72  \n",
              " 4       911696.00  \n",
              " ...           ...  \n",
              " 5143    638957.35  \n",
              " 5144    307306.76  \n",
              " 5145   1063310.62  \n",
              " 5146   1839128.83  \n",
              " 5147    511327.90  \n",
              " \n",
              " [5148 rows x 8 columns],\n",
              "       Store  Week  Temperature Holiday         CPI  FuelPrice  Unemployment  \\\n",
              " 0        41    19        63.36      No  189.400073      2.684         7.363   \n",
              " 1        42    71        84.57      No  129.035710      3.981         8.494   \n",
              " 2         6    60        70.83      No  216.143816      3.473         6.858   \n",
              " 3        38   137        83.64      No  130.977667      4.133        10.926   \n",
              " 4        36    27        85.49      No  210.261493      2.573         8.360   \n",
              " ...     ...   ...          ...     ...         ...        ...           ...   \n",
              " 1282     26     1         9.55      No  131.527903      2.788         8.488   \n",
              " 1283     22   116        58.81      No  141.901526      4.046         7.671   \n",
              " 1284     21   126        88.05      No  221.481334      3.286         6.891   \n",
              " 1285     14    90        59.60      No  187.784620      3.570         8.523   \n",
              " 1286     17   113        45.29      No  130.967097      3.734         6.403   \n",
              " \n",
              "       WeeklySales  \n",
              " 0      1217199.39  \n",
              " 1       616701.99  \n",
              " 2      1438465.81  \n",
              " 3       430944.39  \n",
              " 4       467442.94  \n",
              " ...           ...  \n",
              " 1282   1034119.21  \n",
              " 1283   1000342.87  \n",
              " 1284    716341.39  \n",
              " 1285   2009004.59  \n",
              " 1286    872469.03  \n",
              " \n",
              " [1287 rows x 8 columns])"
            ]
          },
          "metadata": {},
          "execution_count": 106
        }
      ]
    },
    {
      "cell_type": "markdown",
      "source": [
        "Create the \"WeeklySales\" labels for both data sets, that we are trying to create a model to predict."
      ],
      "metadata": {
        "id": "UEfLFGyHI7Fb"
      }
    },
    {
      "cell_type": "code",
      "source": [
        "train = train_set.drop(\"WeeklySales\", axis=1)\n",
        "train_labels = train_set[\"WeeklySales\"].copy()\n",
        "\n",
        "test = test_set.drop(\"WeeklySales\", axis=1)\n",
        "test_labels = test_set[\"WeeklySales\"].copy()"
      ],
      "metadata": {
        "id": "AoKou11PiFmY"
      },
      "execution_count": 107,
      "outputs": []
    },
    {
      "cell_type": "markdown",
      "source": [
        "Verify that train_labels contains the list of weekly sales for each index"
      ],
      "metadata": {
        "id": "nxbKFbwfJetR"
      }
    },
    {
      "cell_type": "code",
      "source": [
        "train_labels"
      ],
      "metadata": {
        "colab": {
          "base_uri": "https://localhost:8080/"
        },
        "id": "DKoacz-bwnyL",
        "outputId": "e259794c-7c81-4ff1-eb75-90c3af40b05f"
      },
      "execution_count": 108,
      "outputs": [
        {
          "output_type": "execute_result",
          "data": {
            "text/plain": [
              "0        952264.91\n",
              "1       2041507.40\n",
              "2        356797.00\n",
              "3       1338132.72\n",
              "4        911696.00\n",
              "           ...    \n",
              "5143     638957.35\n",
              "5144     307306.76\n",
              "5145    1063310.62\n",
              "5146    1839128.83\n",
              "5147     511327.90\n",
              "Name: WeeklySales, Length: 5148, dtype: float64"
            ]
          },
          "metadata": {},
          "execution_count": 108
        }
      ]
    },
    {
      "cell_type": "markdown",
      "source": [
        "Create our lists of attributes for each data set. Including separating the \"Holiday\" attributes, which can utilize a boolean style data type, then it can be used in the onehotencoder.  "
      ],
      "metadata": {
        "id": "aBlUQz5nJn51"
      }
    },
    {
      "cell_type": "code",
      "source": [
        "num_atrb = list(train.drop(\"Holiday\", axis=1))\n",
        "bool_atrb = [\"Holiday\"]\n",
        "\n",
        "num_atrb, bool_atrb"
      ],
      "metadata": {
        "colab": {
          "base_uri": "https://localhost:8080/"
        },
        "id": "7Jd4bPEtwmYW",
        "outputId": "99942788-da85-4ce2-f374-1f870b911986"
      },
      "execution_count": 109,
      "outputs": [
        {
          "output_type": "execute_result",
          "data": {
            "text/plain": [
              "(['Store', 'Week', 'Temperature', 'CPI', 'FuelPrice', 'Unemployment'],\n",
              " ['Holiday'])"
            ]
          },
          "metadata": {},
          "execution_count": 109
        }
      ]
    },
    {
      "cell_type": "markdown",
      "source": [
        "From the code discussed in class, import the libraries needed to create our pipelines. Including the standard scalar and OneHotEncoders"
      ],
      "metadata": {
        "id": "8NY1nr2vKnq8"
      }
    },
    {
      "cell_type": "code",
      "source": [
        "from sklearn.pipeline import Pipeline\n",
        "from sklearn.preprocessing import StandardScaler, OneHotEncoder\n",
        "from sklearn.impute import SimpleImputer\n",
        "\n",
        "imputer = SimpleImputer(strategy='median')\n",
        "\n",
        "imputer\n",
        "\n",
        "numeric_std_pipeline = Pipeline([('imputer', SimpleImputer(strategy='median')),\n",
        "                                  ('stdscaler', StandardScaler())])\n",
        "\n",
        "bool_pipeline = Pipeline([('onehot', OneHotEncoder())])"
      ],
      "metadata": {
        "id": "_zT6NcykthK2"
      },
      "execution_count": 110,
      "outputs": []
    },
    {
      "cell_type": "markdown",
      "source": [
        "Here the piplines are combined using a column transformer to create the transformer for our data sets."
      ],
      "metadata": {
        "id": "UILyi8DHb6CD"
      }
    },
    {
      "cell_type": "code",
      "source": [
        "from sklearn.compose import ColumnTransformer\n",
        "\n",
        "full_transformer = ColumnTransformer([('numeric_stdpreprocessing', numeric_std_pipeline, num_atrb),('bool_preprocessing', bool_pipeline, bool_atrb)\n",
        "                                ])"
      ],
      "metadata": {
        "id": "8iASSlYsyjxi"
      },
      "execution_count": 111,
      "outputs": []
    },
    {
      "cell_type": "markdown",
      "source": [
        "Below is the function to fit our data to a chosen model and then return the training error, test error and R2 scores"
      ],
      "metadata": {
        "id": "2vADW9mrboBd"
      }
    },
    {
      "cell_type": "code",
      "source": [
        "#For regression\n",
        "\n",
        "from sklearn.metrics import mean_absolute_error\n",
        "from sklearn.metrics import r2_score\n",
        "\n",
        "def fit_and_print(p, train_set, train_labels, test_set, test_labels):\n",
        "  p.fit(train_set, train_labels)\n",
        "  train_preds = p.predict(train_set)\n",
        "  test_preds = p.predict(test_set)\n",
        "  print(\"Training Error: \" + str(mean_absolute_error(train_preds, train_labels)))\n",
        "  print(\"Test Error: \" + str(mean_absolute_error(test_preds, test_labels)))\n",
        "  print(\"R2 score: \" + str(r2_score(test_preds, test_labels)))"
      ],
      "metadata": {
        "id": "oR_10CWqvR7F"
      },
      "execution_count": 112,
      "outputs": []
    },
    {
      "cell_type": "markdown",
      "source": [
        "The next three pieces of code import and itialize three different regression models. Including linear, random forest and K Neighbors."
      ],
      "metadata": {
        "id": "yroOx3L0ZjMr"
      }
    },
    {
      "cell_type": "code",
      "source": [
        "from sklearn.linear_model import LinearRegression\n",
        "\n",
        "LR_full_pipeline = Pipeline([('all_column_transformation', full_transformer),\n",
        "                        ('linear_regression', LinearRegression())\n",
        "                      ])"
      ],
      "metadata": {
        "id": "RcgdRcCuy1CQ"
      },
      "execution_count": 113,
      "outputs": []
    },
    {
      "cell_type": "code",
      "source": [
        "from sklearn.ensemble import RandomForestRegressor as RFR\n",
        "\n",
        "RFR_full_pipeline = Pipeline([('all_column_transformation', full_transformer),\n",
        "               (\"RFR_model\", RFR())\n",
        "               ])"
      ],
      "metadata": {
        "id": "kg5fJTOYy3Wf"
      },
      "execution_count": 114,
      "outputs": []
    },
    {
      "cell_type": "code",
      "source": [
        "from sklearn.neighbors import KNeighborsRegressor as KNR\n",
        "\n",
        "KNR_full_pipeline = Pipeline([('all_column_transformation', full_transformer),\n",
        "               (\"KNN Regressor\", KNR())\n",
        "               ])"
      ],
      "metadata": {
        "id": "FD0-8bbny5Jr"
      },
      "execution_count": 115,
      "outputs": []
    },
    {
      "cell_type": "markdown",
      "source": [
        "After running the fit and print function three time using one of the regression pipelines in each one, we see our training/test errors and the R2 scores for each model below."
      ],
      "metadata": {
        "id": "mSEgufy-Z23q"
      }
    },
    {
      "cell_type": "markdown",
      "source": [
        "The results found for the linear regression model show a severe lack of compatability with the data."
      ],
      "metadata": {
        "id": "T4THW8A4atsG"
      }
    },
    {
      "cell_type": "code",
      "source": [
        "fit_and_print(LR_full_pipeline, train, train_labels, test, test_labels)"
      ],
      "metadata": {
        "colab": {
          "base_uri": "https://localhost:8080/"
        },
        "id": "1DBmwJr0y6ti",
        "outputId": "16992024-fbe8-46c3-b9c7-7dfda8234774"
      },
      "execution_count": 116,
      "outputs": [
        {
          "output_type": "stream",
          "name": "stdout",
          "text": [
            "Training Error: 428353.3155306957\n",
            "Test Error: 437453.8028262147\n",
            "R2 score: -4.664731087070617\n"
          ]
        }
      ]
    },
    {
      "cell_type": "markdown",
      "source": [
        "With an R2 score of 0.948, the random forest regression models appears to provide the best result for the data, however the errors that are found show signs of overfitting."
      ],
      "metadata": {
        "id": "eowRROCEaJv-"
      }
    },
    {
      "cell_type": "code",
      "source": [
        "fit_and_print(RFR_full_pipeline, train, train_labels, test, test_labels)"
      ],
      "metadata": {
        "colab": {
          "base_uri": "https://localhost:8080/"
        },
        "id": "8fQJdiEKzIpW",
        "outputId": "b46540b1-a858-4c25-eb6d-dfd0fc0ff22a"
      },
      "execution_count": 117,
      "outputs": [
        {
          "output_type": "stream",
          "name": "stdout",
          "text": [
            "Training Error: 27506.837977369836\n",
            "Test Error: 68728.31571693857\n",
            "R2 score: 0.9485115719134508\n"
          ]
        }
      ]
    },
    {
      "cell_type": "markdown",
      "source": [
        "The KNeighbors model provides better results than linear regression, but the 0.45 R2 score is far from a perfect score and the errors are significant as well as showing signs of overfitting"
      ],
      "metadata": {
        "id": "ZJX9d9Awa77a"
      }
    },
    {
      "cell_type": "code",
      "source": [
        "fit_and_print(KNR_full_pipeline, train, train_labels, test, test_labels)"
      ],
      "metadata": {
        "colab": {
          "base_uri": "https://localhost:8080/"
        },
        "id": "naeEXOSyzljG",
        "outputId": "77d5d21b-bf1b-46b9-e51c-b7ab1dc1cd99"
      },
      "execution_count": 118,
      "outputs": [
        {
          "output_type": "stream",
          "name": "stdout",
          "text": [
            "Training Error: 164030.82773038073\n",
            "Test Error: 224714.07525097125\n",
            "R2 score: 0.4535152877722701\n"
          ]
        }
      ]
    },
    {
      "cell_type": "markdown",
      "source": [
        "Below is the grid search cv method(used in class) to help find the best parameters for our models"
      ],
      "metadata": {
        "id": "JI4cXDOVbVNX"
      }
    },
    {
      "cell_type": "code",
      "source": [
        "\n",
        "from sklearn.model_selection import GridSearchCV\n",
        "param_grid = [\n",
        "    # try 12 (3×4) combinations of hyperparameters\n",
        "    {'RFR_model__n_estimators': [3, 10, 30], 'RFR_model__max_features': [2, 4, 6, 8]},\n",
        "    # then try 6 (2×3) combinations with bootstrap set as False\n",
        "    {'RFR_model__bootstrap': [False], 'RFR_model__n_estimators': [3, 10], 'RFR_model__max_features': [2, 3, 4]},\n",
        "  ]\n",
        "\n",
        "grid_search = GridSearchCV(RFR_full_pipeline, param_grid, cv=5)\n",
        "grid_search.fit(train, train_labels)"
      ],
      "metadata": {
        "colab": {
          "base_uri": "https://localhost:8080/",
          "height": 253
        },
        "id": "c9Mgt4Us4KxQ",
        "outputId": "c2fc0058-9001-4ace-d498-3fafdd1aba6b"
      },
      "execution_count": 119,
      "outputs": [
        {
          "output_type": "execute_result",
          "data": {
            "text/plain": [
              "GridSearchCV(cv=5,\n",
              "             estimator=Pipeline(steps=[('all_column_transformation',\n",
              "                                        ColumnTransformer(transformers=[('numeric_stdpreprocessing',\n",
              "                                                                         Pipeline(steps=[('imputer',\n",
              "                                                                                          SimpleImputer(strategy='median')),\n",
              "                                                                                         ('stdscaler',\n",
              "                                                                                          StandardScaler())]),\n",
              "                                                                         ['Store',\n",
              "                                                                          'Week',\n",
              "                                                                          'Temperature',\n",
              "                                                                          'CPI',\n",
              "                                                                          'FuelPrice',\n",
              "                                                                          'Unemployment']),\n",
              "                                                                        ('bool_preprocessing',\n",
              "                                                                         Pipeline(steps=[('onehot',\n",
              "                                                                                          OneHotEncoder())]),\n",
              "                                                                         ['Holiday'])])),\n",
              "                                       ('RFR_model', RandomForestRegressor())]),\n",
              "             param_grid=[{'RFR_model__max_features': [2, 4, 6, 8],\n",
              "                          'RFR_model__n_estimators': [3, 10, 30]},\n",
              "                         {'RFR_model__bootstrap': [False],\n",
              "                          'RFR_model__max_features': [2, 3, 4],\n",
              "                          'RFR_model__n_estimators': [3, 10]}])"
            ],
            "text/html": [
              "<style>#sk-container-id-7 {color: black;background-color: white;}#sk-container-id-7 pre{padding: 0;}#sk-container-id-7 div.sk-toggleable {background-color: white;}#sk-container-id-7 label.sk-toggleable__label {cursor: pointer;display: block;width: 100%;margin-bottom: 0;padding: 0.3em;box-sizing: border-box;text-align: center;}#sk-container-id-7 label.sk-toggleable__label-arrow:before {content: \"▸\";float: left;margin-right: 0.25em;color: #696969;}#sk-container-id-7 label.sk-toggleable__label-arrow:hover:before {color: black;}#sk-container-id-7 div.sk-estimator:hover label.sk-toggleable__label-arrow:before {color: black;}#sk-container-id-7 div.sk-toggleable__content {max-height: 0;max-width: 0;overflow: hidden;text-align: left;background-color: #f0f8ff;}#sk-container-id-7 div.sk-toggleable__content pre {margin: 0.2em;color: black;border-radius: 0.25em;background-color: #f0f8ff;}#sk-container-id-7 input.sk-toggleable__control:checked~div.sk-toggleable__content {max-height: 200px;max-width: 100%;overflow: auto;}#sk-container-id-7 input.sk-toggleable__control:checked~label.sk-toggleable__label-arrow:before {content: \"▾\";}#sk-container-id-7 div.sk-estimator input.sk-toggleable__control:checked~label.sk-toggleable__label {background-color: #d4ebff;}#sk-container-id-7 div.sk-label input.sk-toggleable__control:checked~label.sk-toggleable__label {background-color: #d4ebff;}#sk-container-id-7 input.sk-hidden--visually {border: 0;clip: rect(1px 1px 1px 1px);clip: rect(1px, 1px, 1px, 1px);height: 1px;margin: -1px;overflow: hidden;padding: 0;position: absolute;width: 1px;}#sk-container-id-7 div.sk-estimator {font-family: monospace;background-color: #f0f8ff;border: 1px dotted black;border-radius: 0.25em;box-sizing: border-box;margin-bottom: 0.5em;}#sk-container-id-7 div.sk-estimator:hover {background-color: #d4ebff;}#sk-container-id-7 div.sk-parallel-item::after {content: \"\";width: 100%;border-bottom: 1px solid gray;flex-grow: 1;}#sk-container-id-7 div.sk-label:hover label.sk-toggleable__label {background-color: #d4ebff;}#sk-container-id-7 div.sk-serial::before {content: \"\";position: absolute;border-left: 1px solid gray;box-sizing: border-box;top: 0;bottom: 0;left: 50%;z-index: 0;}#sk-container-id-7 div.sk-serial {display: flex;flex-direction: column;align-items: center;background-color: white;padding-right: 0.2em;padding-left: 0.2em;position: relative;}#sk-container-id-7 div.sk-item {position: relative;z-index: 1;}#sk-container-id-7 div.sk-parallel {display: flex;align-items: stretch;justify-content: center;background-color: white;position: relative;}#sk-container-id-7 div.sk-item::before, #sk-container-id-7 div.sk-parallel-item::before {content: \"\";position: absolute;border-left: 1px solid gray;box-sizing: border-box;top: 0;bottom: 0;left: 50%;z-index: -1;}#sk-container-id-7 div.sk-parallel-item {display: flex;flex-direction: column;z-index: 1;position: relative;background-color: white;}#sk-container-id-7 div.sk-parallel-item:first-child::after {align-self: flex-end;width: 50%;}#sk-container-id-7 div.sk-parallel-item:last-child::after {align-self: flex-start;width: 50%;}#sk-container-id-7 div.sk-parallel-item:only-child::after {width: 0;}#sk-container-id-7 div.sk-dashed-wrapped {border: 1px dashed gray;margin: 0 0.4em 0.5em 0.4em;box-sizing: border-box;padding-bottom: 0.4em;background-color: white;}#sk-container-id-7 div.sk-label label {font-family: monospace;font-weight: bold;display: inline-block;line-height: 1.2em;}#sk-container-id-7 div.sk-label-container {text-align: center;}#sk-container-id-7 div.sk-container {/* jupyter's `normalize.less` sets `[hidden] { display: none; }` but bootstrap.min.css set `[hidden] { display: none !important; }` so we also need the `!important` here to be able to override the default hidden behavior on the sphinx rendered scikit-learn.org. See: https://github.com/scikit-learn/scikit-learn/issues/21755 */display: inline-block !important;position: relative;}#sk-container-id-7 div.sk-text-repr-fallback {display: none;}</style><div id=\"sk-container-id-7\" class=\"sk-top-container\"><div class=\"sk-text-repr-fallback\"><pre>GridSearchCV(cv=5,\n",
              "             estimator=Pipeline(steps=[(&#x27;all_column_transformation&#x27;,\n",
              "                                        ColumnTransformer(transformers=[(&#x27;numeric_stdpreprocessing&#x27;,\n",
              "                                                                         Pipeline(steps=[(&#x27;imputer&#x27;,\n",
              "                                                                                          SimpleImputer(strategy=&#x27;median&#x27;)),\n",
              "                                                                                         (&#x27;stdscaler&#x27;,\n",
              "                                                                                          StandardScaler())]),\n",
              "                                                                         [&#x27;Store&#x27;,\n",
              "                                                                          &#x27;Week&#x27;,\n",
              "                                                                          &#x27;Temperature&#x27;,\n",
              "                                                                          &#x27;CPI&#x27;,\n",
              "                                                                          &#x27;FuelPrice&#x27;,\n",
              "                                                                          &#x27;Unemployment&#x27;]),\n",
              "                                                                        (&#x27;bool_preprocessing&#x27;,\n",
              "                                                                         Pipeline(steps=[(&#x27;onehot&#x27;,\n",
              "                                                                                          OneHotEncoder())]),\n",
              "                                                                         [&#x27;Holiday&#x27;])])),\n",
              "                                       (&#x27;RFR_model&#x27;, RandomForestRegressor())]),\n",
              "             param_grid=[{&#x27;RFR_model__max_features&#x27;: [2, 4, 6, 8],\n",
              "                          &#x27;RFR_model__n_estimators&#x27;: [3, 10, 30]},\n",
              "                         {&#x27;RFR_model__bootstrap&#x27;: [False],\n",
              "                          &#x27;RFR_model__max_features&#x27;: [2, 3, 4],\n",
              "                          &#x27;RFR_model__n_estimators&#x27;: [3, 10]}])</pre><b>In a Jupyter environment, please rerun this cell to show the HTML representation or trust the notebook. <br />On GitHub, the HTML representation is unable to render, please try loading this page with nbviewer.org.</b></div><div class=\"sk-container\" hidden><div class=\"sk-item sk-dashed-wrapped\"><div class=\"sk-label-container\"><div class=\"sk-label sk-toggleable\"><input class=\"sk-toggleable__control sk-hidden--visually\" id=\"sk-estimator-id-55\" type=\"checkbox\" ><label for=\"sk-estimator-id-55\" class=\"sk-toggleable__label sk-toggleable__label-arrow\">GridSearchCV</label><div class=\"sk-toggleable__content\"><pre>GridSearchCV(cv=5,\n",
              "             estimator=Pipeline(steps=[(&#x27;all_column_transformation&#x27;,\n",
              "                                        ColumnTransformer(transformers=[(&#x27;numeric_stdpreprocessing&#x27;,\n",
              "                                                                         Pipeline(steps=[(&#x27;imputer&#x27;,\n",
              "                                                                                          SimpleImputer(strategy=&#x27;median&#x27;)),\n",
              "                                                                                         (&#x27;stdscaler&#x27;,\n",
              "                                                                                          StandardScaler())]),\n",
              "                                                                         [&#x27;Store&#x27;,\n",
              "                                                                          &#x27;Week&#x27;,\n",
              "                                                                          &#x27;Temperature&#x27;,\n",
              "                                                                          &#x27;CPI&#x27;,\n",
              "                                                                          &#x27;FuelPrice&#x27;,\n",
              "                                                                          &#x27;Unemployment&#x27;]),\n",
              "                                                                        (&#x27;bool_preprocessing&#x27;,\n",
              "                                                                         Pipeline(steps=[(&#x27;onehot&#x27;,\n",
              "                                                                                          OneHotEncoder())]),\n",
              "                                                                         [&#x27;Holiday&#x27;])])),\n",
              "                                       (&#x27;RFR_model&#x27;, RandomForestRegressor())]),\n",
              "             param_grid=[{&#x27;RFR_model__max_features&#x27;: [2, 4, 6, 8],\n",
              "                          &#x27;RFR_model__n_estimators&#x27;: [3, 10, 30]},\n",
              "                         {&#x27;RFR_model__bootstrap&#x27;: [False],\n",
              "                          &#x27;RFR_model__max_features&#x27;: [2, 3, 4],\n",
              "                          &#x27;RFR_model__n_estimators&#x27;: [3, 10]}])</pre></div></div></div><div class=\"sk-parallel\"><div class=\"sk-parallel-item\"><div class=\"sk-item\"><div class=\"sk-label-container\"><div class=\"sk-label sk-toggleable\"><input class=\"sk-toggleable__control sk-hidden--visually\" id=\"sk-estimator-id-56\" type=\"checkbox\" ><label for=\"sk-estimator-id-56\" class=\"sk-toggleable__label sk-toggleable__label-arrow\">estimator: Pipeline</label><div class=\"sk-toggleable__content\"><pre>Pipeline(steps=[(&#x27;all_column_transformation&#x27;,\n",
              "                 ColumnTransformer(transformers=[(&#x27;numeric_stdpreprocessing&#x27;,\n",
              "                                                  Pipeline(steps=[(&#x27;imputer&#x27;,\n",
              "                                                                   SimpleImputer(strategy=&#x27;median&#x27;)),\n",
              "                                                                  (&#x27;stdscaler&#x27;,\n",
              "                                                                   StandardScaler())]),\n",
              "                                                  [&#x27;Store&#x27;, &#x27;Week&#x27;,\n",
              "                                                   &#x27;Temperature&#x27;, &#x27;CPI&#x27;,\n",
              "                                                   &#x27;FuelPrice&#x27;,\n",
              "                                                   &#x27;Unemployment&#x27;]),\n",
              "                                                 (&#x27;bool_preprocessing&#x27;,\n",
              "                                                  Pipeline(steps=[(&#x27;onehot&#x27;,\n",
              "                                                                   OneHotEncoder())]),\n",
              "                                                  [&#x27;Holiday&#x27;])])),\n",
              "                (&#x27;RFR_model&#x27;, RandomForestRegressor())])</pre></div></div></div><div class=\"sk-serial\"><div class=\"sk-item\"><div class=\"sk-serial\"><div class=\"sk-item sk-dashed-wrapped\"><div class=\"sk-label-container\"><div class=\"sk-label sk-toggleable\"><input class=\"sk-toggleable__control sk-hidden--visually\" id=\"sk-estimator-id-57\" type=\"checkbox\" ><label for=\"sk-estimator-id-57\" class=\"sk-toggleable__label sk-toggleable__label-arrow\">all_column_transformation: ColumnTransformer</label><div class=\"sk-toggleable__content\"><pre>ColumnTransformer(transformers=[(&#x27;numeric_stdpreprocessing&#x27;,\n",
              "                                 Pipeline(steps=[(&#x27;imputer&#x27;,\n",
              "                                                  SimpleImputer(strategy=&#x27;median&#x27;)),\n",
              "                                                 (&#x27;stdscaler&#x27;,\n",
              "                                                  StandardScaler())]),\n",
              "                                 [&#x27;Store&#x27;, &#x27;Week&#x27;, &#x27;Temperature&#x27;, &#x27;CPI&#x27;,\n",
              "                                  &#x27;FuelPrice&#x27;, &#x27;Unemployment&#x27;]),\n",
              "                                (&#x27;bool_preprocessing&#x27;,\n",
              "                                 Pipeline(steps=[(&#x27;onehot&#x27;, OneHotEncoder())]),\n",
              "                                 [&#x27;Holiday&#x27;])])</pre></div></div></div><div class=\"sk-parallel\"><div class=\"sk-parallel-item\"><div class=\"sk-item\"><div class=\"sk-label-container\"><div class=\"sk-label sk-toggleable\"><input class=\"sk-toggleable__control sk-hidden--visually\" id=\"sk-estimator-id-58\" type=\"checkbox\" ><label for=\"sk-estimator-id-58\" class=\"sk-toggleable__label sk-toggleable__label-arrow\">numeric_stdpreprocessing</label><div class=\"sk-toggleable__content\"><pre>[&#x27;Store&#x27;, &#x27;Week&#x27;, &#x27;Temperature&#x27;, &#x27;CPI&#x27;, &#x27;FuelPrice&#x27;, &#x27;Unemployment&#x27;]</pre></div></div></div><div class=\"sk-serial\"><div class=\"sk-item\"><div class=\"sk-serial\"><div class=\"sk-item\"><div class=\"sk-estimator sk-toggleable\"><input class=\"sk-toggleable__control sk-hidden--visually\" id=\"sk-estimator-id-59\" type=\"checkbox\" ><label for=\"sk-estimator-id-59\" class=\"sk-toggleable__label sk-toggleable__label-arrow\">SimpleImputer</label><div class=\"sk-toggleable__content\"><pre>SimpleImputer(strategy=&#x27;median&#x27;)</pre></div></div></div><div class=\"sk-item\"><div class=\"sk-estimator sk-toggleable\"><input class=\"sk-toggleable__control sk-hidden--visually\" id=\"sk-estimator-id-60\" type=\"checkbox\" ><label for=\"sk-estimator-id-60\" class=\"sk-toggleable__label sk-toggleable__label-arrow\">StandardScaler</label><div class=\"sk-toggleable__content\"><pre>StandardScaler()</pre></div></div></div></div></div></div></div></div><div class=\"sk-parallel-item\"><div class=\"sk-item\"><div class=\"sk-label-container\"><div class=\"sk-label sk-toggleable\"><input class=\"sk-toggleable__control sk-hidden--visually\" id=\"sk-estimator-id-61\" type=\"checkbox\" ><label for=\"sk-estimator-id-61\" class=\"sk-toggleable__label sk-toggleable__label-arrow\">bool_preprocessing</label><div class=\"sk-toggleable__content\"><pre>[&#x27;Holiday&#x27;]</pre></div></div></div><div class=\"sk-serial\"><div class=\"sk-item\"><div class=\"sk-serial\"><div class=\"sk-item\"><div class=\"sk-estimator sk-toggleable\"><input class=\"sk-toggleable__control sk-hidden--visually\" id=\"sk-estimator-id-62\" type=\"checkbox\" ><label for=\"sk-estimator-id-62\" class=\"sk-toggleable__label sk-toggleable__label-arrow\">OneHotEncoder</label><div class=\"sk-toggleable__content\"><pre>OneHotEncoder()</pre></div></div></div></div></div></div></div></div></div></div><div class=\"sk-item\"><div class=\"sk-estimator sk-toggleable\"><input class=\"sk-toggleable__control sk-hidden--visually\" id=\"sk-estimator-id-63\" type=\"checkbox\" ><label for=\"sk-estimator-id-63\" class=\"sk-toggleable__label sk-toggleable__label-arrow\">RandomForestRegressor</label><div class=\"sk-toggleable__content\"><pre>RandomForestRegressor()</pre></div></div></div></div></div></div></div></div></div></div></div></div>"
            ]
          },
          "metadata": {},
          "execution_count": 119
        }
      ]
    },
    {
      "cell_type": "markdown",
      "source": [
        "Then grid_search is ran with the best_params funciton to get the best possible parameters for the dataset in that particular model. In this case it is for the RFR model."
      ],
      "metadata": {
        "id": "ZRPKTljec9fp"
      }
    },
    {
      "cell_type": "code",
      "source": [
        "grid_search.best_params_"
      ],
      "metadata": {
        "colab": {
          "base_uri": "https://localhost:8080/"
        },
        "id": "0bvncrIs4ab2",
        "outputId": "72225815-2635-4486-a242-9003b5c0e6f7"
      },
      "execution_count": 120,
      "outputs": [
        {
          "output_type": "execute_result",
          "data": {
            "text/plain": [
              "{'RFR_model__max_features': 4, 'RFR_model__n_estimators': 30}"
            ]
          },
          "metadata": {},
          "execution_count": 120
        }
      ]
    }
  ]
}